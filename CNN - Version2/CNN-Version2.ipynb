{
 "cells": [
  {
   "cell_type": "markdown",
   "id": "a0ebffeb",
   "metadata": {},
   "source": [
    "\n",
    "Data Dec 2022: images (all labeled good) + images_bad4 (material failed to extrude)\n",
    "- Passed all image predictions from test folder \n",
    "\n",
    "- Next Steps: \n",
    "  - One model per error type? (images_bad1 - images_bad5)\n",
    "  - One model to learn from combined data \n"
   ]
  },
  {
   "cell_type": "code",
   "execution_count": 1,
   "id": "850a5a74",
   "metadata": {},
   "outputs": [],
   "source": [
    "# organize dataset into a useful structure\n",
    "from os import makedirs\n",
    "from os import listdir\n",
    "from shutil import copyfile\n",
    "from random import seed\n",
    "from random import random\n",
    "# create directories\n",
    "dataset_home = 'dataset_printer/'\n",
    "subdirs = ['train/', 'test/']\n",
    "for subdir in subdirs:\n",
    "\t# create label subdirectories\n",
    "\tlabeldirs = ['good/', 'bad/']\n",
    "\tfor labldir in labeldirs:\n",
    "\t\tnewdir = dataset_home + subdir + labldir\n",
    "\t\tmakedirs(newdir, exist_ok=True)\n",
    "        \n",
    "# seed random number generator\n",
    "seed(1)\n",
    "\n",
    "# define ratio of pictures to use for validation\n",
    "val_ratio = 0.25\n",
    "\n",
    "# copy training dataset images into subdirectories\n",
    "src_directory = 'train/'\n",
    "for file in listdir(src_directory):\n",
    "\tsrc = src_directory + '/' + file\n",
    "\tdst_dir = 'train/'\n",
    "\tif random() < val_ratio:\n",
    "\t\tdst_dir = 'test/'\n",
    "\tif file.startswith('bad'):\n",
    "\t\tdst = dataset_home + dst_dir + 'bad/'  + file\n",
    "\t\tcopyfile(src, dst)\n",
    "\telif file.startswith('good'):\n",
    "\t\tdst = dataset_home + dst_dir + 'good/'  + file\n",
    "\t\tcopyfile(src, dst)"
   ]
  },
  {
   "cell_type": "code",
   "execution_count": 2,
   "id": "6d202b4f",
   "metadata": {},
   "outputs": [
    {
     "name": "stdout",
     "output_type": "stream",
     "text": [
      "Found 254 images belonging to 2 classes.\n",
      "Found 95 images belonging to 2 classes.\n"
     ]
    },
    {
     "name": "stderr",
     "output_type": "stream",
     "text": [
      "C:\\Users\\Padme GM3\\anaconda3\\lib\\site-packages\\keras\\optimizers\\optimizer_v2\\gradient_descent.py:111: UserWarning: The `lr` argument is deprecated, use `learning_rate` instead.\n",
      "  super().__init__(name, **kwargs)\n",
      "<ipython-input-2-9d153bebfd5c>:61: UserWarning: `Model.fit_generator` is deprecated and will be removed in a future version. Please use `Model.fit`, which supports generators.\n",
      "  history = model.fit_generator(train_it, steps_per_epoch=len(train_it),\n"
     ]
    },
    {
     "name": "stdout",
     "output_type": "stream",
     "text": [
      "Epoch 1/10\n",
      "4/4 [==============================] - 63s 16s/step - loss: 2.5519 - accuracy: 0.8110 - val_loss: 0.6913 - val_accuracy: 0.8947\n",
      "Epoch 2/10\n",
      "4/4 [==============================] - 59s 16s/step - loss: 0.1177 - accuracy: 0.9685 - val_loss: 0.1459 - val_accuracy: 0.9895\n",
      "Epoch 3/10\n",
      "4/4 [==============================] - 61s 16s/step - loss: 3.8437e-05 - accuracy: 1.0000 - val_loss: 0.0406 - val_accuracy: 0.9895\n",
      "Epoch 4/10\n",
      "4/4 [==============================] - 58s 15s/step - loss: 1.9460e-04 - accuracy: 1.0000 - val_loss: 4.2237e-04 - val_accuracy: 1.0000\n",
      "Epoch 5/10\n",
      "4/4 [==============================] - 59s 16s/step - loss: 7.5647e-04 - accuracy: 1.0000 - val_loss: 4.2997e-06 - val_accuracy: 1.0000\n",
      "Epoch 6/10\n",
      "4/4 [==============================] - 58s 15s/step - loss: 8.8653e-04 - accuracy: 1.0000 - val_loss: 2.7721e-07 - val_accuracy: 1.0000\n",
      "Epoch 7/10\n",
      "4/4 [==============================] - 57s 15s/step - loss: 3.6387e-04 - accuracy: 1.0000 - val_loss: 1.4297e-07 - val_accuracy: 1.0000\n",
      "Epoch 8/10\n",
      "4/4 [==============================] - 61s 16s/step - loss: 1.8761e-04 - accuracy: 1.0000 - val_loss: 1.4913e-07 - val_accuracy: 1.0000\n",
      "Epoch 9/10\n",
      "4/4 [==============================] - 66s 18s/step - loss: 1.3147e-04 - accuracy: 1.0000 - val_loss: 1.5199e-07 - val_accuracy: 1.0000\n",
      "Epoch 10/10\n",
      "4/4 [==============================] - 64s 16s/step - loss: 9.9498e-05 - accuracy: 1.0000 - val_loss: 1.4550e-07 - val_accuracy: 1.0000\n"
     ]
    },
    {
     "name": "stderr",
     "output_type": "stream",
     "text": [
      "<ipython-input-2-9d153bebfd5c>:64: UserWarning: `Model.evaluate_generator` is deprecated and will be removed in a future version. Please use `Model.evaluate`, which supports generators.\n",
      "  _, acc = model.evaluate_generator(test_it, steps=len(test_it), verbose=0)\n"
     ]
    },
    {
     "name": "stdout",
     "output_type": "stream",
     "text": [
      "> 100.000\n"
     ]
    }
   ],
   "source": [
    "# vgg16 model used for transfer learning on the dogs and cats dataset\n",
    "import sys\n",
    "from matplotlib import pyplot\n",
    "from keras.utils import to_categorical\n",
    "from keras.applications.vgg16 import VGG16\n",
    "from keras.models import Model\n",
    "from keras.layers import Dense\n",
    "from keras.layers import Flatten\n",
    "from keras.optimizers import SGD\n",
    "from keras.preprocessing.image import ImageDataGenerator\n",
    " \n",
    "# define cnn model\n",
    "def define_model():\n",
    "\t# load model\n",
    "\tmodel = VGG16(include_top=False, input_shape=(224, 224, 3))\n",
    "\t# mark loaded layers as not trainable\n",
    "\tfor layer in model.layers:\n",
    "\t\tlayer.trainable = False\n",
    "\t# add new classifier layers\n",
    "\tflat1 = Flatten()(model.layers[-1].output)\n",
    "\tclass1 = Dense(128, activation='relu', kernel_initializer='he_uniform')(flat1)\n",
    "\toutput = Dense(1, activation='sigmoid')(class1)\n",
    "\t# define new model\n",
    "\tmodel = Model(inputs=model.inputs, outputs=output)\n",
    "\t# compile model\n",
    "\topt = SGD(lr=0.001, momentum=0.9)\n",
    "\tmodel.compile(optimizer=opt, loss='binary_crossentropy', metrics=['accuracy'])\n",
    "\treturn model\n",
    " \n",
    "# plot diagnostic learning curves\n",
    "def summarize_diagnostics(history):\n",
    "\t# plot loss\n",
    "\tpyplot.subplot(211)\n",
    "\tpyplot.title('Cross Entropy Loss')\n",
    "\tpyplot.plot(history.history['loss'], color='blue', label='train')\n",
    "\tpyplot.plot(history.history['val_loss'], color='orange', label='test')\n",
    "\t# plot accuracy\n",
    "\tpyplot.subplot(212)\n",
    "\tpyplot.title('Classification Accuracy')\n",
    "\tpyplot.plot(history.history['accuracy'], color='blue', label='train')\n",
    "\tpyplot.plot(history.history['val_accuracy'], color='orange', label='test')\n",
    "\t# save plot to file\n",
    "\tfilename = sys.argv[0].split('/')[-1]\n",
    "\tpyplot.savefig(filename + '_plot.png')\n",
    "\tpyplot.close()\n",
    " \n",
    "# run the test harness for evaluating a model\n",
    "def run_test_harness():\n",
    "\t# define model\n",
    "\tmodel = define_model()\n",
    "\t# create data generator\n",
    "\tdatagen = ImageDataGenerator(featurewise_center=True)\n",
    "\t# specify imagenet mean values for centering\n",
    "\tdatagen.mean = [123.68, 116.779, 103.939]\n",
    "\t# prepare iterator\n",
    "\ttrain_it = datagen.flow_from_directory('dataset_printer/train/',\n",
    "\t\tclass_mode='binary', batch_size=64, target_size=(224, 224))\n",
    "\ttest_it = datagen.flow_from_directory('dataset_printer/test/',\n",
    "\t\tclass_mode='binary', batch_size=64, target_size=(224, 224))\n",
    "\t# fit model\n",
    "\thistory = model.fit_generator(train_it, steps_per_epoch=len(train_it),\n",
    "\t\tvalidation_data=test_it, validation_steps=len(test_it), epochs=10, verbose=1)\n",
    "\t# evaluate model\n",
    "\t_, acc = model.evaluate_generator(test_it, steps=len(test_it), verbose=0)\n",
    "\tprint('> %.3f' % (acc * 100.0))\n",
    "\t# learning curves\n",
    "\tsummarize_diagnostics(history)\n",
    " \n",
    "# entry point, run the test harness\n",
    "run_test_harness()"
   ]
  },
  {
   "cell_type": "code",
   "execution_count": 3,
   "id": "270d8d5b",
   "metadata": {},
   "outputs": [],
   "source": [
    "\n",
    "# organize dataset into a useful structure\n",
    "from os import makedirs\n",
    "from os import listdir\n",
    "from shutil import copyfile\n",
    "# create directories\n",
    "dataset_home = 'finalize_printer/'\n",
    "# create label subdirectories\n",
    "labeldirs = ['good/', 'bad/']\n",
    "for labldir in labeldirs:\n",
    "\tnewdir = dataset_home + labldir\n",
    "\tmakedirs(newdir, exist_ok=True)\n",
    "# copy training dataset images into subdirectories\n",
    "src_directory = 'train/'\n",
    "for file in listdir(src_directory):\n",
    "\tsrc = src_directory + '/' + file\n",
    "\tif file.startswith('good'):\n",
    "\t\tdst = dataset_home + 'good/'  + file\n",
    "\t\tcopyfile(src, dst)\n",
    "\telif file.startswith('bad'):\n",
    "\t\tdst = dataset_home + 'bad/'  + file\n",
    "\t\tcopyfile(src, dst)"
   ]
  },
  {
   "cell_type": "code",
   "execution_count": 4,
   "id": "94157efa",
   "metadata": {
    "scrolled": true
   },
   "outputs": [
    {
     "name": "stdout",
     "output_type": "stream",
     "text": [
      "Found 349 images belonging to 2 classes.\n"
     ]
    },
    {
     "name": "stderr",
     "output_type": "stream",
     "text": [
      "<ipython-input-4-d042a2431a0c>:39: UserWarning: `Model.fit_generator` is deprecated and will be removed in a future version. Please use `Model.fit`, which supports generators.\n",
      "  model.fit_generator(train_it, steps_per_epoch=len(train_it), epochs=10, verbose=0)\n"
     ]
    }
   ],
   "source": [
    "\n",
    "# save the final model to file\n",
    "from keras.applications.vgg16 import VGG16\n",
    "from keras.models import Model\n",
    "from keras.layers import Dense\n",
    "from keras.layers import Flatten\n",
    "from keras.optimizers import SGD\n",
    "from keras.preprocessing.image import ImageDataGenerator\n",
    " \n",
    "# define cnn model\n",
    "def define_model():\n",
    "\t# load model\n",
    "\tmodel = VGG16(include_top=False, input_shape=(224, 224, 3))\n",
    "\t# mark loaded layers as not trainable\n",
    "\tfor layer in model.layers:\n",
    "\t\tlayer.trainable = False\n",
    "\t# add new classifier layers\n",
    "\tflat1 = Flatten()(model.layers[-1].output)\n",
    "\tclass1 = Dense(128, activation='relu', kernel_initializer='he_uniform')(flat1)\n",
    "\toutput = Dense(1, activation='sigmoid')(class1)\n",
    "\t# define new model\n",
    "\tmodel = Model(inputs=model.inputs, outputs=output)\n",
    "\t# compile model\n",
    "\topt = SGD(lr=0.001, momentum=0.9)\n",
    "\tmodel.compile(optimizer=opt, loss='binary_crossentropy', metrics=['accuracy'])\n",
    "\treturn model\n",
    " \n",
    "# run the test harness for evaluating a model\n",
    "def run_test_harness():\n",
    "# define model\n",
    "\tmodel = define_model()\n",
    "\t# create data generator\n",
    "\tdatagen = ImageDataGenerator(featurewise_center=True)\n",
    "\t# specify imagenet mean values for centering\n",
    "\tdatagen.mean = [123.68, 116.779, 103.939]\n",
    "\t# prepare iterator\n",
    "\ttrain_it = datagen.flow_from_directory('finalize_printer/',\n",
    "\t\tclass_mode='binary', batch_size=64, target_size=(224, 224))\n",
    "\t# fit model\n",
    "\tmodel.fit_generator(train_it, steps_per_epoch=len(train_it), epochs=10, verbose=0)\n",
    "\t# save model\n",
    "\tmodel.save('final_model.h5')\n",
    " \n",
    "# entry point, run the test harness\n",
    "run_test_harness()"
   ]
  },
  {
   "cell_type": "code",
   "execution_count": 3,
   "id": "1c8ab980",
   "metadata": {},
   "outputs": [
    {
     "name": "stdout",
     "output_type": "stream",
     "text": [
      "1/1 [==============================] - 0s 334ms/step\n",
      "[1.]\n"
     ]
    }
   ],
   "source": [
    "\n",
    "# make a prediction for a new image: 1 for \"good\"\n",
    "from tensorflow.keras.utils import load_img\n",
    "from tensorflow.keras.utils import img_to_array\n",
    "from keras.models import load_model\n",
    " \n",
    "# load and prepare the image\n",
    "def load_image(filename):\n",
    "\t# load the image\n",
    "\timg = load_img(filename, target_size=(224, 224))\n",
    "\t# convert to array\n",
    "\timg = img_to_array(img)\n",
    "\t# reshape into a single sample with 3 channels\n",
    "\timg = img.reshape(1, 224, 224, 3)\n",
    "\t# center pixel data\n",
    "\timg = img.astype('float32')\n",
    "\timg = img - [123.68, 116.779, 103.939]\n",
    "\treturn img\n",
    " \n",
    "# load an image and predict the class\n",
    "def run_example():\n",
    "\t# load the image\n",
    "\timg = load_image('test/good11.png')\n",
    "\t# load model\n",
    "\tmodel = load_model('final_model.h5')\n",
    "\t# predict the class\n",
    "\tresult = model.predict(img)\n",
    "\tprint(result[0])\n",
    " \n",
    "# entry point, run the example\n",
    "run_example()"
   ]
  },
  {
   "cell_type": "code",
   "execution_count": null,
   "id": "2da4f2e1",
   "metadata": {},
   "outputs": [],
   "source": []
  }
 ],
 "metadata": {
  "kernelspec": {
   "display_name": "Python 3",
   "language": "python",
   "name": "python3"
  },
  "language_info": {
   "codemirror_mode": {
    "name": "ipython",
    "version": 3
   },
   "file_extension": ".py",
   "mimetype": "text/x-python",
   "name": "python",
   "nbconvert_exporter": "python",
   "pygments_lexer": "ipython3",
   "version": "3.8.8"
  }
 },
 "nbformat": 4,
 "nbformat_minor": 5
}
